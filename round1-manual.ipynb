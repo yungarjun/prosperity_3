{
 "cells": [
  {
   "cell_type": "markdown",
   "metadata": {},
   "source": [
    "# Notebook for Round 1 Manual Trading"
   ]
  },
  {
   "cell_type": "markdown",
   "metadata": {},
   "source": [
    "## Matrix of currency exchanges"
   ]
  },
  {
   "cell_type": "code",
   "execution_count": 1,
   "metadata": {},
   "outputs": [],
   "source": [
    "import numpy as np"
   ]
  },
  {
   "cell_type": "markdown",
   "metadata": {},
   "source": [
    "0 - snowballs\n",
    "\n",
    "1 - pizzas\n",
    "\n",
    "2 - silicon nuggets\n",
    "\n",
    "3 - seashells (our own currency)\n",
    "\n",
    "\n",
    "We can to up to 5 trades, starting and ending with seashells.\n",
    "\n",
    "Row index = currency we have\n",
    "\n",
    "col index = currency we convert into"
   ]
  },
  {
   "cell_type": "code",
   "execution_count": 64,
   "metadata": {},
   "outputs": [
    {
     "data": {
      "text/plain": [
       "array([[1.  , 1.45, 0.52, 0.72],\n",
       "       [0.7 , 1.  , 0.31, 0.48],\n",
       "       [1.95, 3.1 , 1.  , 1.49],\n",
       "       [1.34, 1.98, 0.68, 1.  ]])"
      ]
     },
     "execution_count": 64,
     "metadata": {},
     "output_type": "execute_result"
    }
   ],
   "source": [
    "A = np.array([\n",
    "    [1, 1.45, 0.52, 0.72],\n",
    "    [0.7, 1, 0.31, 0.48],\n",
    "    [1.95, 3.1, 1, 1.49],\n",
    "    [1.34, 1.98, 0.68, 1]\n",
    "])\n",
    "A"
   ]
  },
  {
   "cell_type": "markdown",
   "metadata": {},
   "source": [
    "Dynamical programming approach \n",
    "\n",
    "solve general problem - for any two products (x, y) and n trades find the highest total exchange rate starting at x and ending at y using n trades (trade path of length n+1)."
   ]
  },
  {
   "cell_type": "code",
   "execution_count": 58,
   "metadata": {},
   "outputs": [],
   "source": [
    "# initialize matrix of optimal trade rates\n",
    "A_cur = A\n",
    "\n",
    "# matrix to keep of optimal trade sequence\n",
    "B_cur = [['']*4 for _ in range(4)]\n",
    "# B_cur = np.array(B_cur)\n",
    "for i in range(4):\n",
    "    for j in range(4):\n",
    "        B_cur[i][j] = str(i) + str(j)"
   ]
  },
  {
   "cell_type": "code",
   "execution_count": 59,
   "metadata": {},
   "outputs": [
    {
     "name": "stdout",
     "output_type": "stream",
     "text": [
      "[[1.   1.45 0.52 0.72]\n",
      " [0.7  1.   0.31 0.48]\n",
      " [1.95 3.1  1.   1.49]\n",
      " [1.34 1.98 0.68 1.  ]] [['00', '01', '02', '03'], ['10', '11', '12', '13'], ['20', '21', '22', '23'], ['30', '31', '32', '33']]\n"
     ]
    }
   ],
   "source": [
    "print(A_cur, B_cur)"
   ]
  },
  {
   "cell_type": "code",
   "execution_count": 60,
   "metadata": {},
   "outputs": [
    {
     "name": "stdout",
     "output_type": "stream",
     "text": [
      "n: 3\n",
      "A_cur: [[1.   1.45 0.52 0.72]\n",
      " [0.7  1.   0.31 0.48]\n",
      " [1.95 3.1  1.   1.49]\n",
      " [1.34 1.98 0.68 1.  ]]\n",
      "B_cur: [['00', '01', '02', '03'], ['10', '11', '12', '13'], ['20', '21', '22', '23'], ['30', '31', '32', '33']] \n",
      "\n",
      "n: 4\n",
      "A_cur: [[1.015      1.612      0.52       0.7748    ]\n",
      " [0.7105     1.1284     0.364      0.54236   ]\n",
      " [2.20255    3.49804    1.1284     1.681316  ]\n",
      " [1.497734   2.3786672  0.767312   1.14329488]]\n",
      "B_cur: [['010', '021', '002', '023'], ['100', '101', '102', '103'], ['210', '211', '212', '213'], ['320', '321', '322', '323']] \n",
      "\n",
      "n: 5\n",
      "A_cur: [[1.1604443  1.84299135 0.59451334 0.88582487]\n",
      " [0.93036092 1.47757813 0.47663811 0.71019078]\n",
      " [3.67230978 5.83227918 1.88138038 2.80325677]\n",
      " [3.22158473 5.11644787 1.65046705 2.45919591]]\n",
      "B_cur: [['0230', '0231', '0232', '0233'], ['1010', '1011', '1012', '1013'], ['2120', '2121', '2122', '2123'], ['3230', '3231', '3232', '3233']] \n",
      "\n"
     ]
    }
   ],
   "source": [
    "for n in range(3, 6):\n",
    "    print(f'n: {n}')\n",
    "    print(f'A_cur: {A_cur}')\n",
    "    print(f'B_cur: {B_cur} \\n')\n",
    "    A_prev = A_cur.copy()\n",
    "    B_prev = B_cur.copy()\n",
    "    B_cur = [['']*4 for _ in range(4)]\n",
    "    #B_cur = np.array([['']*4 for _ in range(4)])\n",
    "    for i in range(4):\n",
    "        for k in range(4):\n",
    "            max_rate = 0\n",
    "            for j in range(4):\n",
    "                rate_ij = A_prev[i][j]\n",
    "                rate_jk = A[j][k]\n",
    "                rate_tot = rate_ij * rate_jk\n",
    "                if rate_tot > max_rate:\n",
    "                    max_rate = rate_tot\n",
    "                    optimal_path = B_prev[i][j] + str(k)\n",
    "                A_cur[i][k] = max_rate\n",
    "                B_cur[i][k] = optimal_path\n",
    "        "
   ]
  },
  {
   "cell_type": "code",
   "execution_count": 53,
   "metadata": {},
   "outputs": [
    {
     "data": {
      "text/plain": [
       "[['00000', '00001', '00002', '00003'],\n",
       " ['10000', '10001', '10002', '10003'],\n",
       " ['20000', '20001', '20002', '20003'],\n",
       " ['30000', '30001', '30002', '30003']]"
      ]
     },
     "execution_count": 53,
     "metadata": {},
     "output_type": "execute_result"
    }
   ],
   "source": [
    "B_cur"
   ]
  },
  {
   "cell_type": "code",
   "execution_count": 49,
   "metadata": {},
   "outputs": [
    {
     "data": {
      "text/plain": [
       "array([[inf, inf, inf, inf],\n",
       "       [inf, inf, inf, inf],\n",
       "       [inf, inf, inf, inf],\n",
       "       [inf, inf, inf, inf]])"
      ]
     },
     "execution_count": 49,
     "metadata": {},
     "output_type": "execute_result"
    }
   ],
   "source": [
    "A_cur"
   ]
  },
  {
   "cell_type": "code",
   "execution_count": 65,
   "metadata": {},
   "outputs": [],
   "source": [
    "max_rate = -1\n",
    "for i1 in range(4):\n",
    "    for i2 in range(4):\n",
    "        for i3 in range(4):\n",
    "            for i4 in range(4):\n",
    "                rate_tot = A[3][i1] * A[i1][i2] * A[i2][i3] * A[i3][i4] * A[i4][3]\n",
    "                if rate_tot > max_rate:\n",
    "                    max_rate = rate_tot\n",
    "                    optimal_path = '3' + str(i1) + str(i2) + str(i3) + str(i4) + '3'"
   ]
  },
  {
   "cell_type": "code",
   "execution_count": 66,
   "metadata": {},
   "outputs": [
    {
     "data": {
      "text/plain": [
       "1.14329488"
      ]
     },
     "execution_count": 66,
     "metadata": {},
     "output_type": "execute_result"
    }
   ],
   "source": [
    "max_rate"
   ]
  },
  {
   "cell_type": "code",
   "execution_count": 67,
   "metadata": {},
   "outputs": [
    {
     "data": {
      "text/plain": [
       "'321023'"
      ]
     },
     "execution_count": 67,
     "metadata": {},
     "output_type": "execute_result"
    }
   ],
   "source": [
    "optimal_path"
   ]
  }
 ],
 "metadata": {
  "kernelspec": {
   "display_name": "Python 3",
   "language": "python",
   "name": "python3"
  },
  "language_info": {
   "codemirror_mode": {
    "name": "ipython",
    "version": 3
   },
   "file_extension": ".py",
   "mimetype": "text/x-python",
   "name": "python",
   "nbconvert_exporter": "python",
   "pygments_lexer": "ipython3",
   "version": "3.7.7"
  }
 },
 "nbformat": 4,
 "nbformat_minor": 2
}
