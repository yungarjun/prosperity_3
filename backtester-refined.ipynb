{
 "cells": [
  {
   "cell_type": "markdown",
   "id": "9ba96ec3",
   "metadata": {},
   "source": [
    "# imports/setup"
   ]
  },
  {
   "cell_type": "code",
   "execution_count": 1,
   "id": "f51d0f2e-b498-485c-acf4-eea427479f01",
   "metadata": {
    "ExecuteTime": {
     "end_time": "2024-04-10T18:22:16.657196Z",
     "start_time": "2024-04-10T18:22:16.127270Z"
    }
   },
   "outputs": [],
   "source": [
    "import datetime\n",
    "import json\n",
    "import pandas as pd\n",
    "from collections import defaultdict\n",
    "from typing import List, Dict, Any\n",
    "from datamodel import TradingState, Listing, OrderDepth, Trade, Observation"
   ]
  },
  {
   "cell_type": "markdown",
   "id": "1b505f0b",
   "metadata": {},
   "source": [
    "# backtester"
   ]
  },
  {
   "cell_type": "code",
   "execution_count": 2,
   "id": "9c6cc59f",
   "metadata": {
    "ExecuteTime": {
     "end_time": "2024-04-11T21:17:14.007994Z",
     "start_time": "2024-04-11T21:17:13.916612Z"
    }
   },
   "outputs": [],
   "source": [
    "# edit to mark to mm mid "
   ]
  },
  {
   "cell_type": "code",
   "execution_count": 3,
   "id": "70a8c5f2-3fcd-40f5-933a-96084a060a52",
   "metadata": {
    "ExecuteTime": {
     "end_time": "2024-04-11T21:55:46.472774Z",
     "start_time": "2024-04-11T21:55:46.419006Z"
    }
   },
   "outputs": [],
   "source": [
    "class Backtester:\n",
    "    def __init__(self, trader, listings: Dict[str, Listing], position_limit: Dict[str, int], fair_marks, \n",
    "                 market_data: pd.DataFrame, trade_history: pd.DataFrame, file_name: str = None):\n",
    "        self.trader = trader\n",
    "        self.listings = listings\n",
    "        self.market_data = market_data\n",
    "        self.position_limit = position_limit\n",
    "        self.fair_marks = fair_marks\n",
    "        self.trade_history = trade_history.sort_values(by=['timestamp', 'symbol'])\n",
    "        self.file_name = file_name\n",
    "\n",
    "        self.observations = [Observation({}, {}) for _ in range(len(market_data))]\n",
    "\n",
    "        self.current_position = {product: 0 for product in self.listings.keys()}\n",
    "        self.pnl_history = []\n",
    "        self.pnl = {product: 0 for product in self.listings.keys()}\n",
    "        self.cash = {product: 0 for product in self.listings.keys()}\n",
    "        self.trades = []\n",
    "        self.sandbox_logs = []\n",
    "        \n",
    "    def run(self):\n",
    "        traderData = \"\"\n",
    "        \n",
    "        timestamp_group_md = self.market_data.groupby('timestamp')\n",
    "        timestamp_group_th = self.trade_history.groupby('timestamp')\n",
    "        \n",
    "        own_trades = defaultdict(list)\n",
    "        market_trades = defaultdict(list)\n",
    "        pnl_product = defaultdict(float)\n",
    "        \n",
    "        trade_history_dict = {}\n",
    "        \n",
    "        for timestamp, group in timestamp_group_th:\n",
    "            trades = []\n",
    "            for _, row in group.iterrows():\n",
    "                symbol = row['symbol']\n",
    "                price = row['price']\n",
    "                quantity = row['quantity']\n",
    "                buyer = row['buyer'] if pd.notnull(row['buyer']) else \"\"\n",
    "                seller = row['seller'] if pd.notnull(row['seller']) else \"\"\n",
    "\n",
    "                \n",
    "                trade = Trade(symbol, int(price), int(quantity), buyer, seller, timestamp)\n",
    "                \n",
    "                trades.append(trade)\n",
    "            trade_history_dict[timestamp] = trades\n",
    "        \n",
    "        \n",
    "        for timestamp, group in timestamp_group_md:\n",
    "            order_depths = self._construct_order_depths(group)\n",
    "            order_depths_matching = self._construct_order_depths(group)\n",
    "            order_depths_pnl = self._construct_order_depths(group)\n",
    "            state = self._construct_trading_state(traderData, timestamp, self.listings, order_depths, \n",
    "                                 dict(own_trades), dict(market_trades), self.current_position, self.observations)\n",
    "            orders, conversions, traderData = self.trader.run(state)\n",
    "            products = group['product'].tolist()\n",
    "            sandboxLog = \"\"\n",
    "            trades_at_timestamp = trade_history_dict.get(timestamp, [])\n",
    "\n",
    "            for product in products:\n",
    "                new_trades = []\n",
    "                for order in orders.get(product, []):\n",
    "                    trades_done, sandboxLog = self._execute_order(timestamp, order, order_depths_matching, self.current_position, self.cash, trade_history_dict, sandboxLog)\n",
    "                    new_trades.extend(trades_done)\n",
    "                if len(new_trades) > 0:\n",
    "                    own_trades[product] = new_trades\n",
    "            self.sandbox_logs.append({\"sandboxLog\": sandboxLog, \"lambdaLog\": \"\", \"timestamp\": timestamp})\n",
    "\n",
    "            trades_at_timestamp = trade_history_dict.get(timestamp, [])\n",
    "            if trades_at_timestamp:\n",
    "                for trade in trades_at_timestamp:\n",
    "                    product = trade.symbol\n",
    "                    market_trades[product].append(trade)\n",
    "            else: \n",
    "                for product in products:\n",
    "                    market_trades[product] = []\n",
    "\n",
    "            \n",
    "            for product in products:\n",
    "                self._mark_pnl(self.cash, self.current_position, order_depths_pnl, self.pnl, product)\n",
    "                self.pnl_history.append(self.pnl[product])\n",
    "            self._add_trades(own_trades, market_trades)\n",
    "        return self._log_trades(self.file_name)\n",
    "    \n",
    "    \n",
    "    def _log_trades(self, filename: str = None):\n",
    "        if filename is None:\n",
    "            return \n",
    "\n",
    "        self.market_data['profit_and_loss'] = self.pnl_history\n",
    "\n",
    "        output = \"\"\n",
    "        output += \"Sandbox logs:\\n\"\n",
    "        for i in self.sandbox_logs:\n",
    "            output += json.dumps(i, indent=2) + \"\\n\"\n",
    "\n",
    "        output += \"\\n\\n\\n\\nActivities log:\\n\"\n",
    "        market_data_csv = self.market_data.to_csv(index=False, sep=\";\")\n",
    "        market_data_csv = market_data_csv.replace(\"\\r\\n\", \"\\n\")\n",
    "        output += market_data_csv\n",
    "\n",
    "        output += \"\\n\\n\\n\\nTrade History:\\n\"\n",
    "        output += json.dumps(self.trades, indent=2)\n",
    "\n",
    "        with open(filename, 'w+') as file:\n",
    "            file.write(output)\n",
    "\n",
    "            \n",
    "    def _add_trades(self, own_trades: Dict[str, List[Trade]], market_trades: Dict[str, List[Trade]]):\n",
    "        products = set(own_trades.keys()) | set(market_trades.keys())\n",
    "        for product in products:\n",
    "            self.trades.extend([self._trade_to_dict(trade) for trade in own_trades.get(product, [])])\n",
    "        for product in products:\n",
    "            self.trades.extend([self._trade_to_dict(trade) for trade in market_trades.get(product, [])])\n",
    "\n",
    "    def _trade_to_dict(self, trade: Trade) -> dict[str, Any]:\n",
    "        return {\n",
    "            \"timestamp\": trade.timestamp,\n",
    "            \"buyer\": trade.buyer,\n",
    "            \"seller\": trade.seller,\n",
    "            \"symbol\": trade.symbol,\n",
    "            \"currency\": \"SEASHELLS\",\n",
    "            \"price\": trade.price,\n",
    "            \"quantity\": trade.quantity,\n",
    "        }\n",
    "        \n",
    "    def _construct_trading_state(self, traderData, timestamp, listings, order_depths, \n",
    "                                 own_trades, market_trades, position, observations):\n",
    "        state = TradingState(traderData, timestamp, listings, order_depths, \n",
    "                             own_trades, market_trades, position, observations)\n",
    "        return state\n",
    "    \n",
    "        \n",
    "    def _construct_order_depths(self, group):\n",
    "        order_depths = {}\n",
    "        for idx, row in group.iterrows():\n",
    "            product = row['product']\n",
    "            order_depth = OrderDepth()\n",
    "            for i in range(1, 4):\n",
    "                if f'bid_price_{i}' in row and f'bid_volume_{i}' in row:\n",
    "                    bid_price = row[f'bid_price_{i}']\n",
    "                    bid_volume = row[f'bid_volume_{i}']\n",
    "                    if not pd.isna(bid_price) and not pd.isna(bid_volume):\n",
    "                        order_depth.buy_orders[int(bid_price)] = int(bid_volume)\n",
    "                if f'ask_price_{i}' in row and f'ask_volume_{i}' in row:\n",
    "                    ask_price = row[f'ask_price_{i}']\n",
    "                    ask_volume = row[f'ask_volume_{i}']\n",
    "                    if not pd.isna(ask_price) and not pd.isna(ask_volume):\n",
    "                        order_depth.sell_orders[int(ask_price)] = -int(ask_volume)\n",
    "            order_depths[product] = order_depth\n",
    "        return order_depths\n",
    "    \n",
    "        \n",
    "        \n",
    "    def _execute_buy_order(self, timestamp, order, order_depths, position, cash, trade_history_dict, sandboxLog):\n",
    "        trades = []\n",
    "        order_depth = order_depths[order.symbol]\n",
    "\n",
    "        for price, volume in list(order_depth.sell_orders.items()):\n",
    "            if price > order.price or order.quantity == 0:\n",
    "                break\n",
    "\n",
    "            trade_volume = min(abs(order.quantity), abs(volume))\n",
    "            if abs(trade_volume + position[order.symbol]) <= int(self.position_limit[order.symbol]):\n",
    "                trades.append(Trade(order.symbol, price, trade_volume, \"SUBMISSION\", \"\", timestamp))\n",
    "                position[order.symbol] += trade_volume\n",
    "                self.cash[order.symbol] -= price * trade_volume\n",
    "                order_depth.sell_orders[price] += trade_volume\n",
    "                order.quantity -= trade_volume\n",
    "            else:\n",
    "                sandboxLog += f\"\\nOrders for product {order.symbol} exceeded limit of {self.position_limit[order.symbol]} set\"\n",
    "            \n",
    "\n",
    "            if order_depth.sell_orders[price] == 0:\n",
    "                del order_depth.sell_orders[price]\n",
    "        \n",
    "        trades_at_timestamp = trade_history_dict.get(timestamp, [])\n",
    "        new_trades_at_timestamp = []\n",
    "        for trade in trades_at_timestamp:\n",
    "            if trade.symbol == order.symbol:\n",
    "                if trade.price < order.price:\n",
    "                    trade_volume = min(abs(order.quantity), abs(trade.quantity))\n",
    "                    trades.append(Trade(order.symbol, order.price, trade_volume, \"SUBMISSION\", \"\", timestamp))\n",
    "                    order.quantity -= trade_volume\n",
    "                    position[order.symbol] += trade_volume\n",
    "                    self.cash[order.symbol] -= order.price * trade_volume\n",
    "                    if trade_volume == abs(trade.quantity):\n",
    "                        continue\n",
    "                    else:\n",
    "                        new_quantity = trade.quantity - trade_volume\n",
    "                        new_trades_at_timestamp.append(Trade(order.symbol, order.price, new_quantity, \"\", \"\", timestamp))\n",
    "                        continue\n",
    "            new_trades_at_timestamp.append(trade)  \n",
    "\n",
    "        if len(new_trades_at_timestamp) > 0:\n",
    "            trade_history_dict[timestamp] = new_trades_at_timestamp\n",
    "\n",
    "        return trades, sandboxLog\n",
    "        \n",
    "        \n",
    "        \n",
    "    def _execute_sell_order(self, timestamp, order, order_depths, position, cash, trade_history_dict, sandboxLog):\n",
    "        trades = []\n",
    "        order_depth = order_depths[order.symbol]\n",
    "        \n",
    "        for price, volume in sorted(order_depth.buy_orders.items(), reverse=True):\n",
    "            if price < order.price or order.quantity == 0:\n",
    "                break\n",
    "\n",
    "            trade_volume = min(abs(order.quantity), abs(volume))\n",
    "            if abs(position[order.symbol] - trade_volume) <= int(self.position_limit[order.symbol]):\n",
    "                trades.append(Trade(order.symbol, price, trade_volume, \"\", \"SUBMISSION\", timestamp))\n",
    "                position[order.symbol] -= trade_volume\n",
    "                self.cash[order.symbol] += price * abs(trade_volume)\n",
    "                order_depth.buy_orders[price] -= abs(trade_volume)\n",
    "                order.quantity += trade_volume\n",
    "            else:\n",
    "                sandboxLog += f\"\\nOrders for product {order.symbol} exceeded limit of {self.position_limit[order.symbol]} set\"\n",
    "\n",
    "            if order_depth.buy_orders[price] == 0:\n",
    "                del order_depth.buy_orders[price]\n",
    "\n",
    "        trades_at_timestamp = trade_history_dict.get(timestamp, [])\n",
    "        new_trades_at_timestamp = []\n",
    "        for trade in trades_at_timestamp:\n",
    "            if trade.symbol == order.symbol:\n",
    "                if trade.price > order.price:\n",
    "                    trade_volume = min(abs(order.quantity), abs(trade.quantity))\n",
    "                    trades.append(Trade(order.symbol, order.price, trade_volume, \"\", \"SUBMISSION\", timestamp))\n",
    "                    order.quantity += trade_volume\n",
    "                    position[order.symbol] -= trade_volume\n",
    "                    self.cash[order.symbol] += order.price * trade_volume\n",
    "                    if trade_volume == abs(trade.quantity):\n",
    "                        continue\n",
    "                    else:\n",
    "                        new_quantity = trade.quantity - trade_volume\n",
    "                        new_trades_at_timestamp.append(Trade(order.symbol, order.price, new_quantity, \"\", \"\", timestamp))\n",
    "                        continue\n",
    "            new_trades_at_timestamp.append(trade)  \n",
    "\n",
    "        if len(new_trades_at_timestamp) > 0:\n",
    "            trade_history_dict[timestamp] = new_trades_at_timestamp\n",
    "                \n",
    "        return trades, sandboxLog\n",
    "        \n",
    "        \n",
    "        \n",
    "    def _execute_order(self, timestamp, order, order_depths, position, cash, trades_at_timestamp, sandboxLog):\n",
    "        if order.quantity == 0:\n",
    "            return []\n",
    "        \n",
    "        order_depth = order_depths[order.symbol]\n",
    "        if order.quantity > 0:\n",
    "            return self._execute_buy_order(timestamp, order, order_depths, position, cash, trades_at_timestamp, sandboxLog)\n",
    "        else:\n",
    "            return self._execute_sell_order(timestamp, order, order_depths, position, cash, trades_at_timestamp, sandboxLog)\n",
    "    \n",
    "    def _mark_pnl(self, cash, position, order_depths, pnl, product):\n",
    "        order_depth = order_depths[product]\n",
    "        \n",
    "        best_ask = min(order_depth.sell_orders.keys())\n",
    "        best_bid = max(order_depth.buy_orders.keys())\n",
    "        mid = (best_ask + best_bid)/2\n",
    "        fair = mid\n",
    "        if product in self.fair_marks:\n",
    "            get_fair = self.fair_marks[product]\n",
    "            fair = get_fair(order_depth)\n",
    "        \n",
    "        pnl[product] = cash[product] + fair * position[product]\n",
    "        \n"
   ]
  },
  {
   "cell_type": "markdown",
   "id": "f095ca83",
   "metadata": {},
   "source": [
    "# trader"
   ]
  },
  {
   "cell_type": "code",
   "execution_count": 29,
   "id": "9a3e2600",
   "metadata": {
    "ExecuteTime": {
     "end_time": "2024-04-12T04:01:38.991034Z",
     "start_time": "2024-04-12T04:01:38.636696Z"
    }
   },
   "outputs": [],
   "source": [
    "from datamodel import OrderDepth, UserId, TradingState, Order\n",
    "from datamodel import Listing, Observation, Order, OrderDepth, ProsperityEncoder, Symbol, Trade, TradingState\n",
    "\n",
    "from typing import List\n",
    "import string\n",
    "import jsonpickle\n",
    "import numpy as np\n",
    "import math\n",
    "\n",
    "\n",
    "class Product:\n",
    "    RAINFOREST_RESIN = \"RAINFOREST_RESIN\"\n",
    "    KELP = \"KELP\"\n",
    "    SQUID_INK = \"SQUID_INK\"\n",
    "\n",
    "# Updated parameters for three products:\n",
    "PARAMS = {\n",
    "    Product.RAINFOREST_RESIN: {\n",
    "        \"fair_value\": 10000,\n",
    "        \"take_width\": 0.5,          \n",
    "        \"clear_width\": 0,\n",
    "        \"disregard_edge\": 0.5,\n",
    "        \"join_edge\": 1,\n",
    "        \"default_edge\": 2,\n",
    "        \"soft_position_limit\": 50,\n",
    "    },\n",
    "    Product.KELP: {\n",
    "        \"fair_value\": 2030,\n",
    "        \"take_width\": 0.3,\n",
    "        \"clear_width\": 3,\n",
    "        \"prevent_adverse\": True,\n",
    "        \"adverse_volume\": 15,\n",
    "        \"reversion_beta\": -0.4,\n",
    "        \"disregard_edge\": 0.5,\n",
    "        \"join_edge\": 0.5,\n",
    "        \"default_edge\": 0.5,\n",
    "        \"soft_position_limit\": 50,\n",
    "    },\n",
    "    Product.SQUID_INK: {\n",
    "        \"fair_value\": 2000,         # Baseline fair value (starting point)\n",
    "        \"take_width\": 0.5,          \n",
    "        \"clear_width\": 1,           \n",
    "        \"prevent_adverse\": False,\n",
    "        \"adverse_volume\": 20,\n",
    "        \"reversion_beta\": -0.25,    # Used in mean reverting mode\n",
    "        \"breakout_threshold\": 50,   # If midprice deviates more than 30 units, follow the trend\n",
    "        \"disregard_edge\": 0.5,\n",
    "        \"join_edge\": 0.5,\n",
    "        \"default_edge\": 1,\n",
    "        \"soft_position_limit\": 50,\n",
    "    },\n",
    "}"
   ]
  },
  {
   "cell_type": "markdown",
   "id": "b55d0761",
   "metadata": {},
   "source": [
    "# backtest run"
   ]
  },
  {
   "cell_type": "code",
   "execution_count": 5,
   "id": "36b888c0",
   "metadata": {
    "ExecuteTime": {
     "end_time": "2024-04-12T03:52:41.977041Z",
     "start_time": "2024-04-12T03:52:41.971211Z"
    }
   },
   "outputs": [],
   "source": [
    "from datamodel import Listing, Observation\n",
    "import pandas as pd\n",
    "import json\n",
    "import io"
   ]
  },
  {
   "cell_type": "code",
   "execution_count": 6,
   "id": "6905b4c7",
   "metadata": {
    "ExecuteTime": {
     "end_time": "2024-04-12T03:52:42.430090Z",
     "start_time": "2024-04-12T03:52:42.421784Z"
    }
   },
   "outputs": [],
   "source": [
    "def _process_data_(file):\n",
    "    with open(file, 'r') as file:\n",
    "        log_content = file.read()\n",
    "    sections = log_content.split('Sandbox logs:')[1].split('Activities log:')\n",
    "    sandbox_log =  sections[0].strip()\n",
    "    activities_log = sections[1].split('Trade History:')[0]\n",
    "    # sandbox_log_list = [json.loads(line) for line in sandbox_log.split('\\n')]\n",
    "    trade_history =  json.loads(sections[1].split('Trade History:')[1])\n",
    "    # sandbox_log_df = pd.DataFrame(sandbox_log_list)\n",
    "    market_data_df = pd.read_csv(io.StringIO(activities_log), sep=\";\", header=0)\n",
    "    trade_history_df = pd.json_normalize(trade_history)\n",
    "    return market_data_df, trade_history_df"
   ]
  },
  {
   "cell_type": "markdown",
   "id": "8b9980db",
   "metadata": {},
   "source": [
    "### setup"
   ]
  },
  {
   "cell_type": "code",
   "execution_count": 7,
   "id": "1443a52c",
   "metadata": {
    "ExecuteTime": {
     "end_time": "2024-04-12T03:52:44.282123Z",
     "start_time": "2024-04-12T03:52:44.271649Z"
    }
   },
   "outputs": [],
   "source": [
    "def calculate_kelp_fair(order_depth):\n",
    "    # assumes order_depth has orders in it \n",
    "    best_ask = min(order_depth.sell_orders.keys())\n",
    "    best_bid = max(order_depth.buy_orders.keys())\n",
    "    filtered_ask = [price for price in order_depth.sell_orders.keys() if abs(order_depth.sell_orders[price]) >= 15]\n",
    "    filtered_bid = [price for price in order_depth.buy_orders.keys() if abs(order_depth.buy_orders[price]) >= 15]\n",
    "    mm_ask = min(filtered_ask) if len(filtered_ask) > 0 else best_ask\n",
    "    mm_bid = max(filtered_bid) if len(filtered_bid) > 0 else best_bid\n",
    "\n",
    "    mmmid_price = (mm_ask + mm_bid) / 2\n",
    "    return mmmid_price\n",
    "\n",
    "def calculate_squid_ink_fair(order_depth):\n",
    "    # assumes order_depth has orders in it \n",
    "    best_ask = min(order_depth.sell_orders.keys())\n",
    "    best_bid = max(order_depth.buy_orders.keys())\n",
    "    filtered_ask = [price for price in order_depth.sell_orders.keys() if abs(order_depth.sell_orders[price]) >= 15]\n",
    "    filtered_bid = [price for price in order_depth.buy_orders.keys() if abs(order_depth.buy_orders[price]) >= 15]\n",
    "    mm_ask = min(filtered_ask) if len(filtered_ask) > 0 else best_ask\n",
    "    mm_bid = max(filtered_bid) if len(filtered_bid) > 0 else best_bid\n",
    "\n",
    "    mmmid_price = (mm_ask + mm_bid) / 2\n",
    "    return mmmid_price\n",
    "    \n",
    "def calculate_rainforest_resin_fair(order_depth):\n",
    "    return 10000"
   ]
  },
  {
   "cell_type": "code",
   "execution_count": 8,
   "id": "8d3a56eb",
   "metadata": {
    "ExecuteTime": {
     "end_time": "2024-04-12T03:52:44.661938Z",
     "start_time": "2024-04-12T03:52:44.656156Z"
    }
   },
   "outputs": [],
   "source": [
    "listings = {\n",
    "    'RAINFOREST_RESIN': Listing(symbol='RAINFOREST_RESIN', product='RAINFOREST_RESIN', denomination='SEASHELLS'),\n",
    "    'KELP': Listing(symbol='KELP', product='KELP', denomination='SEASHELLS'),\n",
    "    'SQUID_INK': Listing(symbol='SQUID_INK', product='SQUID_INK', denomination='SEASHELLS')\n",
    "}\n",
    "\n",
    "position_limit = {\n",
    "    'RAINFOREST_RESIN': 10,\n",
    "    'KELP': 10,\n",
    "    'SQUID_INK':10\n",
    "}\n",
    "\n",
    "fair_calculations = {\n",
    "    \"RAINFOREST_RESIN\": calculate_rainforest_resin_fair,\n",
    "    \"KELP\": calculate_kelp_fair,\n",
    "    \"SQUID_INK\": calculate_squid_ink_fair\n",
    "}\n"
   ]
  },
  {
   "cell_type": "code",
   "execution_count": 43,
   "id": "0987ec24",
   "metadata": {},
   "outputs": [],
   "source": [
    "from init_test import Trader\n",
    "from fixed_logic import Trader as FixedLogicTrader"
   ]
  },
  {
   "cell_type": "code",
   "execution_count": 26,
   "id": "ee25ef9c",
   "metadata": {
    "ExecuteTime": {
     "end_time": "2024-04-12T04:01:43.304833Z",
     "start_time": "2024-04-12T04:01:42.704039Z"
    }
   },
   "outputs": [
    {
     "name": "stdout",
     "output_type": "stream",
     "text": [
      "{'RAINFOREST_RESIN': 1132, 'KELP': 132.0, 'SQUID_INK': -1649.0}\n"
     ]
    }
   ],
   "source": [
    "# market_data, trade_history = _process_data_('round_1_clean_data.log')\n",
    "market_data, trade_history = _process_data_('log_data\\init.log')\n",
    "\n",
    "# trader = Trader(flush=False)\n",
    "trader = FixedLogicTrader(params=PARAMS, flush=False)\n",
    "\n",
    "\n",
    "\n",
    "\n",
    "\n",
    "# backtester = Backtester(trader, listings, position_limit, fair_calculations, market_data, trade_history, \"backtests/yuh\")\n",
    "backtester = Backtester(trader, listings, position_limit, fair_calculations, market_data, trade_history)\n",
    "backtester.run()\n",
    "print(backtester.pnl)"
   ]
  },
  {
   "cell_type": "code",
   "execution_count": 12,
   "id": "d09d7b3c",
   "metadata": {},
   "outputs": [
    {
     "name": "stdout",
     "output_type": "stream",
     "text": [
      "{'RAINFOREST_RESIN': 700, 'KELP': 132.0, 'SQUID_INK': -1649.0}\n"
     ]
    }
   ],
   "source": [
    "# market_data, trade_history = _process_data_('round_1_clean_data.log')\n",
    "market_data, trade_history = _process_data_('log_data\\init.log')\n",
    "\n",
    "trader = Trader(flush=False)\n",
    "\n",
    "# backtester = Backtester(trader, listings, position_limit, fair_calculations, market_data, trade_history, \"backtests/yuh\")\n",
    "backtester = Backtester(trader, listings, position_limit, fair_calculations, market_data, trade_history)\n",
    "backtester.run()\n",
    "print(backtester.pnl)"
   ]
  },
  {
   "cell_type": "code",
   "execution_count": 20,
   "id": "d74be242-5fb9-47a2-b170-b426508aa258",
   "metadata": {
    "ExecuteTime": {
     "end_time": "2024-04-12T04:17:07.075002Z",
     "start_time": "2024-04-12T04:17:01.325384Z"
    }
   },
   "outputs": [
    {
     "name": "stdout",
     "output_type": "stream",
     "text": [
      "{'RAINFOREST_RESIN': 11404, 'KELP': 3617.5, 'SQUID_INK': -975.5}\n",
      "{'RAINFOREST_RESIN': 11495, 'KELP': 3070.0, 'SQUID_INK': -1495.5}\n",
      "{'RAINFOREST_RESIN': 11083, 'KELP': 2650.0, 'SQUID_INK': -2828.0}\n"
     ]
    }
   ],
   "source": [
    "# with fair prediction\n",
    "for day in [-2, -1, 0]:\n",
    "    market_data = pd.read_csv(f\"./data/prices_round_1_day_{day}.csv\", sep=\";\", header=0)\n",
    "    trade_history = pd.read_csv(f\"./data/trades_round_1_day_{day}.csv\", sep=\";\", header=0)\n",
    "\n",
    "    trader = Trader(flush=False)\n",
    "    backtester = Backtester(trader, listings, position_limit, fair_calculations, market_data, trade_history, \"backtests/volume.log\")\n",
    "    backtester.run()\n",
    "    print(backtester.pnl)\n"
   ]
  },
  {
   "cell_type": "code",
   "execution_count": null,
   "id": "8ef00240",
   "metadata": {
    "ExecuteTime": {
     "end_time": "2024-04-11T07:49:51.034535Z",
     "start_time": "2024-04-11T07:49:44.193556Z"
    }
   },
   "outputs": [],
   "source": [
    "# day = 0\n",
    "# market_data = pd.read_csv(f\"./data/prices_round_1_day_{day}.csv\", sep=\";\", header=0)\n",
    "# trade_history = pd.read_csv(f\"./data/trades_round_1_day_{day}.csv\", sep=\";\", header=0)\n",
    "\n",
    "# trader = Trader()\n",
    "# backtester = Backtester(trader, listings, position_limit, market_data, trade_history, \"trade_history_sim.log\")\n",
    "# backtester.run()\n",
    "# print(backtester.pnl)"
   ]
  },
  {
   "cell_type": "markdown",
   "id": "78f84ee9",
   "metadata": {},
   "source": [
    "# backtest gridsearch"
   ]
  },
  {
   "cell_type": "code",
   "execution_count": 36,
   "id": "da4a7053",
   "metadata": {
    "ExecuteTime": {
     "end_time": "2024-04-11T01:05:46.057497Z",
     "start_time": "2024-04-11T01:05:46.050249Z"
    }
   },
   "outputs": [],
   "source": [
    "import itertools\n",
    "\n",
    "def generate_param_combinations(param_grid):\n",
    "    param_names = param_grid.keys()\n",
    "    param_values = param_grid.values()\n",
    "    combinations = list(itertools.product(*param_values))\n",
    "    return [dict(zip(param_names, combination)) for combination in combinations]"
   ]
  },
  {
   "cell_type": "code",
   "execution_count": 37,
   "id": "2710a571",
   "metadata": {
    "ExecuteTime": {
     "end_time": "2024-04-12T00:59:54.451328Z",
     "start_time": "2024-04-12T00:59:54.438199Z"
    }
   },
   "outputs": [],
   "source": [
    "import os\n",
    "from tqdm import tqdm\n",
    "\n",
    "def run_backtests(trader, listings, position_limit, fair_calcs, market_data, trade_history, backtest_dir, param_grid, symbol):\n",
    "    if not os.path.exists(backtest_dir):\n",
    "        os.makedirs(backtest_dir)\n",
    "\n",
    "    param_combinations = generate_param_combinations(param_grid[symbol])\n",
    "\n",
    "    results = []\n",
    "    for params in tqdm(param_combinations, desc=f\"Running backtests for {symbol}\", unit=\"backtest\"):\n",
    "        # trader.params = {symbol: params}\n",
    "        trader.params[symbol] = params\n",
    "        backtester = Backtester(trader, listings, position_limit, fair_calcs, market_data, trade_history)\n",
    "        backtester.run()\n",
    "\n",
    "        param_str = \"-\".join([f\"{key}={value}\" for key, value in params.items()])\n",
    "        log_filename = f\"{backtest_dir}/{symbol}_{param_str}.log\"\n",
    "        # backtester._log_trades(log_filename) # uncomment to save logs # problem with squid_ink\n",
    "\n",
    "        results.append((params, backtester.pnl[symbol]))\n",
    "\n",
    "    return results"
   ]
  },
  {
   "cell_type": "markdown",
   "id": "141f7346",
   "metadata": {},
   "source": [
    "### setup"
   ]
  },
  {
   "cell_type": "code",
   "execution_count": 38,
   "id": "91eca625",
   "metadata": {
    "ExecuteTime": {
     "end_time": "2024-04-12T00:59:56.349283Z",
     "start_time": "2024-04-12T00:59:56.343849Z"
    }
   },
   "outputs": [],
   "source": [
    "listings = {\n",
    "    'RAINFOREST_RESIN': Listing(symbol='RAINFOREST_RESIN', product='RAINFOREST_RESIN', denomination='SEASHELLS'),\n",
    "    'KELP': Listing(symbol='KELP', product='KELP', denomination='SEASHELLS'),\n",
    "    'SQUID_INK': Listing(symbol='SQUID_INK', product='SQUID_INK', denomination='SEASHELLS')\n",
    "}\n",
    "\n",
    "position_limit = {\n",
    "    'RAINFOREST_RESIN': 50,\n",
    "    'KELP': 50,\n",
    "    'SQUID_INK':50\n",
    "}\n",
    "\n",
    "fair_calculations = {\n",
    "    \"RAINFOREST_RESIN\": calculate_rainforest_resin_fair,\n",
    "    \"KELP\": calculate_kelp_fair,\n",
    "    \"SQUID_INK\": calculate_squid_ink_fair\n",
    "}\n",
    "\n"
   ]
  },
  {
   "cell_type": "code",
   "execution_count": 39,
   "id": "3bdbcd72",
   "metadata": {
    "ExecuteTime": {
     "end_time": "2024-04-12T00:59:58.140937Z",
     "start_time": "2024-04-12T00:59:58.070172Z"
    }
   },
   "outputs": [],
   "source": [
    "day = 0\n",
    "market_data = pd.read_csv(f\"./data/prices_round_1_day_{day}.csv\", sep=\";\", header=0)\n",
    "trade_history = pd.read_csv(f\"./data/trades_round_1_day_{day}.csv\", sep=\";\", header=0)\n"
   ]
  },
  {
   "cell_type": "markdown",
   "id": "28aef217",
   "metadata": {},
   "source": [
    "### run"
   ]
  },
  {
   "cell_type": "code",
   "execution_count": 74,
   "id": "f9670677",
   "metadata": {
    "ExecuteTime": {
     "end_time": "2024-04-12T03:16:10.224466Z",
     "start_time": "2024-04-12T01:39:43.686530Z"
    },
    "scrolled": true
   },
   "outputs": [],
   "source": [
    "# backtest_dir = \"backtest_test_clear_width\"\n",
    "backtest_dir = \"backtest_test\"\n",
    "\n",
    "param_grid = {\n",
    "    Product.RAINFOREST_RESIN: {\n",
    "        \"fair_value\": [10000],\n",
    "        \"take_width\": [1],\n",
    "        \"clear_width\": [1], \n",
    "        \"volume_limit\": [0],\n",
    "        # for making\n",
    "        \"disregard_edge\": [2],  # disregards orders for joining or pennying within this value from fair\n",
    "        \"join_edge\": [2],# joins orders within this edge \n",
    "        \"default_edge\": [4, 5, 6],\n",
    "        \"soft_position_limit\": [9]\n",
    "    },\n",
    "    Product.KELP: {\n",
    "        \"fair_value\": [1000, 2000, 3000],\n",
    "        \"take_width\": [1],\n",
    "        \"clear_width\": [0, -0.25],\n",
    "        \"prevent_adverse\": [True],\n",
    "        \"adverse_volume\": [15],\n",
    "        \"reversion_beta\": [-0.229],\n",
    "        # for making\n",
    "        \"disregard_edge\": [1],\n",
    "        \"join_edge\": [3],\n",
    "        \"default_edge\": [5],\n",
    "        \"soft_position_limit\": [50]\n",
    "    },\n",
    "\n",
    "    Product.SQUID_INK: {\n",
    "        \"fair_value\": [2000],         # Baseline fair value (starting point)\n",
    "        \"take_width\": [0.5],          \n",
    "        \"clear_width\": [1],           \n",
    "        \"prevent_adverse\": [False],\n",
    "        \"adverse_volume\": [20],\n",
    "        \"reversion_beta\": [-0.25],    # Used in mean reverting mode\n",
    "        \"breakout_threshold\": [50],   # If midprice deviates more than 30 units, follow the trend\n",
    "        \"disregard_edge\": [0.5],\n",
    "        \"join_edge\": [0.5],\n",
    "        \"default_edge\": [1],\n",
    "        \"soft_position_limit\": [50],\n",
    "    },\n",
    "}\n",
    "\n",
    "trader = Trader(flush=False)"
   ]
  },
  {
   "cell_type": "code",
   "execution_count": 75,
   "id": "d5e0f8c3",
   "metadata": {},
   "outputs": [
    {
     "name": "stderr",
     "output_type": "stream",
     "text": [
      "Running backtests for RAINFOREST_RESIN: 100%|██████████| 3/3 [00:36<00:00, 12.32s/backtest]"
     ]
    },
    {
     "name": "stdout",
     "output_type": "stream",
     "text": [
      "RAINFOREST_RESIN results:\n",
      "{'fair_value': 10000, 'take_width': 1, 'clear_width': 1, 'volume_limit': 0, 'disregard_edge': 2, 'join_edge': 2, 'default_edge': 4, 'soft_position_limit': 9}\n",
      "pnl: 13642\n",
      "================================================================================\n",
      "{'fair_value': 10000, 'take_width': 1, 'clear_width': 1, 'volume_limit': 0, 'disregard_edge': 2, 'join_edge': 2, 'default_edge': 5, 'soft_position_limit': 9}\n",
      "pnl: 13642\n",
      "================================================================================\n",
      "{'fair_value': 10000, 'take_width': 1, 'clear_width': 1, 'volume_limit': 0, 'disregard_edge': 2, 'join_edge': 2, 'default_edge': 6, 'soft_position_limit': 9}\n",
      "pnl: 13642\n",
      "================================================================================\n"
     ]
    },
    {
     "name": "stderr",
     "output_type": "stream",
     "text": [
      "\n"
     ]
    }
   ],
   "source": [
    "rainforest_resin_results = run_backtests(trader, listings, position_limit, fair_calculations,\n",
    "                                          market_data, trade_history, backtest_dir, param_grid,\n",
    "                                            \"RAINFOREST_RESIN\")\n",
    "print(\"RAINFOREST_RESIN results:\")\n",
    "for params, pnl in rainforest_resin_results: \n",
    "    print(params)\n",
    "    print(f\"pnl: {pnl}\")\n",
    "    print(\"=\"*80)\n"
   ]
  },
  {
   "cell_type": "code",
   "execution_count": 76,
   "id": "de6beb47",
   "metadata": {},
   "outputs": [
    {
     "name": "stdout",
     "output_type": "stream",
     "text": [
      "Best params for RAINFOREST_RESIN:\n",
      "{'fair_value': 10000, 'take_width': 1, 'clear_width': 1, 'volume_limit': 0, 'disregard_edge': 2, 'join_edge': 2, 'default_edge': 4, 'soft_position_limit': 9}\n",
      "Max PnL: 13642\n"
     ]
    }
   ],
   "source": [
    "max_pnl = 0\n",
    "for params, pnl in rainforest_resin_results:\n",
    "    if pnl > max_pnl:\n",
    "        max_pnl = pnl\n",
    "        best_params = params\n",
    "\n",
    "print(\"Best params for RAINFOREST_RESIN:\")\n",
    "print(best_params)\n",
    "print(f\"Max PnL: {max_pnl}\")"
   ]
  },
  {
   "cell_type": "code",
   "execution_count": 70,
   "id": "dd2fc1ce",
   "metadata": {},
   "outputs": [],
   "source": [
    "params = PARAMS\n",
    "params[\"RAINFOREST_RESIN\"].update(best_params)"
   ]
  },
  {
   "cell_type": "code",
   "execution_count": 73,
   "id": "5eef2f90",
   "metadata": {},
   "outputs": [
    {
     "name": "stdout",
     "output_type": "stream",
     "text": [
      "{'RAINFOREST_RESIN': 14924, 'KELP': 5155.0, 'SQUID_INK': 12.0}\n",
      "{'RAINFOREST_RESIN': 15004, 'KELP': 4627.5, 'SQUID_INK': -5238.5}\n",
      "{'RAINFOREST_RESIN': 14266, 'KELP': 3845.5, 'SQUID_INK': -2428.0}\n"
     ]
    }
   ],
   "source": [
    "trader = Trader(params=params, flush=False)\n",
    "# with fair prediction\n",
    "for day in [-2, -1, 0]:\n",
    "    market_data = pd.read_csv(f\"./data/prices_round_1_day_{day}.csv\", sep=\";\", header=0)\n",
    "    trade_history = pd.read_csv(f\"./data/trades_round_1_day_{day}.csv\", sep=\";\", header=0)\n",
    "    backtester = Backtester(trader, listings, position_limit, fair_calculations, market_data, trade_history, \"backtests/volume.log\")\n",
    "    backtester.run()\n",
    "    print(backtester.pnl)\n"
   ]
  },
  {
   "cell_type": "code",
   "execution_count": 49,
   "id": "ff0bc081",
   "metadata": {},
   "outputs": [
    {
     "name": "stderr",
     "output_type": "stream",
     "text": [
      "Running backtests for KELP: 100%|██████████| 6/6 [01:04<00:00, 10.74s/backtest]\n"
     ]
    }
   ],
   "source": [
    "symbol = Product.KELP\n",
    "param_combinations = generate_param_combinations(param_grid[symbol])\n",
    "results = []\n",
    "\n",
    "for params in tqdm(param_combinations, desc=f\"Running backtests for {symbol}\", unit=\"backtest\"):\n",
    "    # print(params)\n",
    "    backtester = Backtester(trader, listings, position_limit, fair_calculations, market_data, trade_history)\n",
    "    backtester.run()\n",
    "    param_str = \"-\".join([f\"{key}={value}\" for key, value in params.items()])\n",
    "    if symbol == Product.SQUID_INK:\n",
    "        log_filename = f\"{backtest_dir}/kelp_{param_str}.log\"    \n",
    "    else:\n",
    "        log_filename = f\"{backtest_dir}/{symbol}_{param_str}.log\"\n",
    "    # print(log_filename)\n",
    "    backtester._log_trades(log_filename)\n",
    "\n",
    "    results.append((params, backtester.pnl[symbol]))\n"
   ]
  },
  {
   "cell_type": "code",
   "execution_count": null,
   "id": "1ced5ef0",
   "metadata": {},
   "outputs": [
    {
     "name": "stderr",
     "output_type": "stream",
     "text": [
      "Running backtests for KELP: 100%|██████████| 6/6 [00:59<00:00,  9.93s/backtest]"
     ]
    },
    {
     "name": "stdout",
     "output_type": "stream",
     "text": [
      "KELP results:\n",
      "{'fair_value': 1000, 'take_width': 1, 'clear_width': 0, 'prevent_adverse': True, 'adverse_volume': 15, 'reversion_beta': -0.229, 'disregard_edge': 1, 'join_edge': 3, 'default_edge': 5, 'soft_position_limit': 50}\n",
      "pnl: 880.0\n",
      "================================================================================\n",
      "{'fair_value': 1000, 'take_width': 1, 'clear_width': -0.25, 'prevent_adverse': True, 'adverse_volume': 15, 'reversion_beta': -0.229, 'disregard_edge': 1, 'join_edge': 3, 'default_edge': 5, 'soft_position_limit': 50}\n",
      "pnl: 838.0\n",
      "================================================================================\n",
      "{'fair_value': 2000, 'take_width': 1, 'clear_width': 0, 'prevent_adverse': True, 'adverse_volume': 15, 'reversion_beta': -0.229, 'disregard_edge': 1, 'join_edge': 3, 'default_edge': 5, 'soft_position_limit': 50}\n",
      "pnl: 880.0\n",
      "================================================================================\n",
      "{'fair_value': 2000, 'take_width': 1, 'clear_width': -0.25, 'prevent_adverse': True, 'adverse_volume': 15, 'reversion_beta': -0.229, 'disregard_edge': 1, 'join_edge': 3, 'default_edge': 5, 'soft_position_limit': 50}\n",
      "pnl: 838.0\n",
      "================================================================================\n",
      "{'fair_value': 3000, 'take_width': 1, 'clear_width': 0, 'prevent_adverse': True, 'adverse_volume': 15, 'reversion_beta': -0.229, 'disregard_edge': 1, 'join_edge': 3, 'default_edge': 5, 'soft_position_limit': 50}\n",
      "pnl: 880.0\n",
      "================================================================================\n",
      "{'fair_value': 3000, 'take_width': 1, 'clear_width': -0.25, 'prevent_adverse': True, 'adverse_volume': 15, 'reversion_beta': -0.229, 'disregard_edge': 1, 'join_edge': 3, 'default_edge': 5, 'soft_position_limit': 50}\n",
      "pnl: 838.0\n",
      "================================================================================\n"
     ]
    },
    {
     "name": "stderr",
     "output_type": "stream",
     "text": [
      "\n"
     ]
    }
   ],
   "source": [
    "trader = Trader()\n",
    "kelp_results = run_backtests(trader, listings, position_limit, fair_calculations, market_data, trade_history, backtest_dir, param_grid, \"KELP\")\n",
    "print(\"KELP results:\")\n",
    "for params, pnl in kelp_results: \n",
    "    print(params)\n",
    "    print(f\"pnl: {pnl}\")\n",
    "    print(\"=\"*80)\n"
   ]
  },
  {
   "cell_type": "code",
   "execution_count": null,
   "id": "92408636",
   "metadata": {},
   "outputs": [
    {
     "name": "stderr",
     "output_type": "stream",
     "text": [
      "Running backtests for SQUID_INK: 100%|██████████| 1/1 [00:09<00:00,  9.96s/backtest]"
     ]
    },
    {
     "name": "stdout",
     "output_type": "stream",
     "text": [
      "SQUID_INK results:\n",
      "{'fair_value': 2000, 'take_width': 0.5, 'clear_width': 1, 'prevent_adverse': False, 'adverse_volume': 20, 'reversion_beta': -0.25, 'breakout_threshold': 50, 'disregard_edge': 0.5, 'join_edge': 0.5, 'default_edge': 1, 'soft_position_limit': 50}\n",
      "pnl: 1527.0\n",
      "================================================================================\n"
     ]
    },
    {
     "name": "stderr",
     "output_type": "stream",
     "text": [
      "\n"
     ]
    }
   ],
   "source": [
    "trader = Trader()\n",
    "squid_ink_results = run_backtests(trader, listings, position_limit, fair_calculations, market_data, trade_history, backtest_dir, param_grid, \"SQUID_INK\")\n",
    "print(\"SQUID_INK results:\")\n",
    "for params, pnl in squid_ink_results: \n",
    "    print(params)\n",
    "    print(f\"pnl: {pnl}\")\n",
    "    print(\"=\"*80)"
   ]
  },
  {
   "cell_type": "code",
   "execution_count": null,
   "id": "7ca5ba09",
   "metadata": {},
   "outputs": [],
   "source": [
    "from fixed_logic import Trader as fixed_logic_trader"
   ]
  },
  {
   "cell_type": "markdown",
   "id": "bd53a5e1",
   "metadata": {},
   "source": [
    "## analyze"
   ]
  },
  {
   "cell_type": "code",
   "execution_count": null,
   "id": "2027e9a2",
   "metadata": {
    "ExecuteTime": {
     "end_time": "2024-04-10T20:17:56.528624Z",
     "start_time": "2024-04-10T20:17:56.471121Z"
    }
   },
   "outputs": [
    {
     "name": "stdout",
     "output_type": "stream",
     "text": [
      "KELP_take_width=1-clear_width=-0.25-prevent_adverse=True-adverse_volume=15-reversion_beta=-0.229-disregard_edge=1-join_edge=3-default_edge=5-soft_position_limit=50\n"
     ]
    },
    {
     "ename": "ValueError",
     "evalue": "dictionary update sequence element #1 has length 1; 2 is required",
     "output_type": "error",
     "traceback": [
      "\u001b[1;31m---------------------------------------------------------------------------\u001b[0m",
      "\u001b[1;31mValueError\u001b[0m                                Traceback (most recent call last)",
      "Cell \u001b[1;32mIn[71], line 28\u001b[0m\n\u001b[0;32m     25\u001b[0m     \u001b[38;5;28;01mreturn\u001b[39;00m results\n\u001b[0;32m     27\u001b[0m \u001b[38;5;66;03m# Analyze the log files\u001b[39;00m\n\u001b[1;32m---> 28\u001b[0m log_analysis_results \u001b[38;5;241m=\u001b[39m analyze_log_files(backtest_dir)\n\u001b[0;32m     30\u001b[0m \u001b[38;5;66;03m# Print the results\u001b[39;00m\n\u001b[0;32m     31\u001b[0m \u001b[38;5;28;01mfor\u001b[39;00m result \u001b[38;5;129;01min\u001b[39;00m log_analysis_results:\n",
      "Cell \u001b[1;32mIn[71], line 12\u001b[0m, in \u001b[0;36manalyze_log_files\u001b[1;34m(backtest_dir)\u001b[0m\n\u001b[0;32m     10\u001b[0m \u001b[38;5;28mprint\u001b[39m(file_name)\n\u001b[0;32m     11\u001b[0m symbol, params_str \u001b[38;5;241m=\u001b[39m file_name\u001b[38;5;241m.\u001b[39msplit(\u001b[38;5;124m'\u001b[39m\u001b[38;5;124m-\u001b[39m\u001b[38;5;124m'\u001b[39m, \u001b[38;5;241m1\u001b[39m)\n\u001b[1;32m---> 12\u001b[0m params \u001b[38;5;241m=\u001b[39m \u001b[38;5;28mdict\u001b[39m(param\u001b[38;5;241m.\u001b[39msplit(\u001b[38;5;124m'\u001b[39m\u001b[38;5;124m=\u001b[39m\u001b[38;5;124m'\u001b[39m) \u001b[38;5;28;01mfor\u001b[39;00m param \u001b[38;5;129;01min\u001b[39;00m params_str\u001b[38;5;241m.\u001b[39msplit(\u001b[38;5;124m'\u001b[39m\u001b[38;5;124m-\u001b[39m\u001b[38;5;124m'\u001b[39m))\n\u001b[0;32m     14\u001b[0m \u001b[38;5;66;03m# Read the contents of the log file\u001b[39;00m\n\u001b[0;32m     15\u001b[0m \u001b[38;5;28;01mwith\u001b[39;00m \u001b[38;5;28mopen\u001b[39m(file_path, \u001b[38;5;124m'\u001b[39m\u001b[38;5;124mr\u001b[39m\u001b[38;5;124m'\u001b[39m) \u001b[38;5;28;01mas\u001b[39;00m file:\n",
      "\u001b[1;31mValueError\u001b[0m: dictionary update sequence element #1 has length 1; 2 is required"
     ]
    }
   ],
   "source": [
    "\n",
    "def analyze_log_files(backtest_dir):\n",
    "    log_files = [f for f in os.listdir(backtest_dir) if f.endswith('.log')]\n",
    "    \n",
    "    results = []\n",
    "    for log_file in log_files:\n",
    "        file_path = os.path.join(backtest_dir, log_file)\n",
    "        \n",
    "        # Extract symbol and parameters from the file name\n",
    "        file_name = os.path.splitext(log_file)[0]\n",
    "        print(file_name)\n",
    "        symbol, params_str = file_name.split('-', 1)\n",
    "        params = dict(param.split('=') for param in params_str.split('-'))\n",
    "        \n",
    "        # Read the contents of the log file\n",
    "        with open(file_path, 'r') as file:\n",
    "            log_content = file.read()\n",
    "        \n",
    "        # Store the symbol, parameters, and log content in the results\n",
    "        results.append({\n",
    "            'symbol': symbol,\n",
    "            'params': params,\n",
    "            'log_content': log_content\n",
    "        })\n",
    "    \n",
    "    return results\n",
    "\n",
    "# Analyze the log files\n",
    "log_analysis_results = analyze_log_files(backtest_dir)\n",
    "\n",
    "# Print the results\n",
    "for result in log_analysis_results:\n",
    "    print(f\"Symbol: {result['symbol']}\")\n",
    "    print(f\"Parameters: {result['params']}\")\n",
    "#     print(f\"Log Content:\\n{result['log_content']}\\n\")"
   ]
  },
  {
   "cell_type": "code",
   "execution_count": null,
   "id": "488171a9",
   "metadata": {
    "ExecuteTime": {
     "end_time": "2024-04-12T03:19:32.949270Z",
     "start_time": "2024-04-12T03:19:32.933005Z"
    }
   },
   "outputs": [],
   "source": [
    "sorted_starfruit_results = sorted(starfruit_results, key=lambda x: x[1], reverse=True)\n"
   ]
  },
  {
   "cell_type": "code",
   "execution_count": null,
   "id": "9de6efaf",
   "metadata": {
    "ExecuteTime": {
     "end_time": "2024-04-12T03:25:10.999805Z",
     "start_time": "2024-04-12T03:25:10.959244Z"
    },
    "scrolled": false
   },
   "outputs": [],
   "source": [
    "sorted_starfruit_results[0:100]"
   ]
  },
  {
   "cell_type": "code",
   "execution_count": null,
   "id": "84bac157",
   "metadata": {},
   "outputs": [],
   "source": []
  }
 ],
 "metadata": {
  "kernelspec": {
   "display_name": "base",
   "language": "python",
   "name": "python3"
  },
  "language_info": {
   "codemirror_mode": {
    "name": "ipython",
    "version": 3
   },
   "file_extension": ".py",
   "mimetype": "text/x-python",
   "name": "python",
   "nbconvert_exporter": "python",
   "pygments_lexer": "ipython3",
   "version": "3.11.3"
  },
  "toc": {
   "base_numbering": 1,
   "nav_menu": {},
   "number_sections": true,
   "sideBar": true,
   "skip_h1_title": false,
   "title_cell": "Table of Contents",
   "title_sidebar": "Contents",
   "toc_cell": false,
   "toc_position": {},
   "toc_section_display": true,
   "toc_window_display": false
  }
 },
 "nbformat": 4,
 "nbformat_minor": 5
}
